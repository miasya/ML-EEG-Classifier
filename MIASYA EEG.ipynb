{
 "cells": [
  {
   "cell_type": "code",
   "execution_count": 2,
   "metadata": {},
   "outputs": [],
   "source": [
    "import numpy as np\n",
    "import matplotlib.pyplot as plt\n",
    "import seaborn as sn\n",
    "import pandas as pd\n",
    "\n",
    "from pandas import DataFrame\n",
    "from scipy import io\n",
    "from sklearn.metrics import accuracy_score, confusion_matrix\n",
    "from sklearn.ensemble import RandomForestClassifier"
   ]
  },
  {
   "cell_type": "code",
   "execution_count": 6,
   "metadata": {},
   "outputs": [],
   "source": [
    "### GET ALL MY FEATURES AND CLASSES FROM CSV ###\n",
    "### AND PERFORM TRAIN, VALID, AND TEST SPLIT ###\n",
    "data = DataFrame()\n",
    "data = pd.read_csv(\"emotions2.csv\", header=None, low_memory=False)\n",
    "\n",
    "test, valid, train = np.split(data, [int(2132 * 0.2), int(2132 * 0.4)])\n",
    "\n",
    "x_train = train.iloc[:,0:2547]\n",
    "y_train = train.iloc[:,2548]\n",
    "\n",
    "x_valid = valid.iloc[:,0:2547]\n",
    "y_valid = valid.iloc[:,2548]\n",
    "\n",
    "x_test = test.iloc[:,0:2547]\n",
    "y_test = test.iloc[:,2548]"
   ]
  },
  {
   "cell_type": "code",
   "execution_count": null,
   "metadata": {},
   "outputs": [],
   "source": [
    "### SET UP MY RCF MODEL, LOOKING AT VALIDATION ACCURACY VS FEATURES ###\n",
    "MAX_FEAT = 1\n",
    "train_accuracy = np.zeros(40)\n",
    "valid_accuracy = np.zeros(40)\n",
    "features = np.zeros(40)\n",
    "\n",
    "for i in range (40):\n",
    "    RFC = RandomForestClassifier(n_estimators=100, min_samples_split=3, max_features=MAX_FEAT)\n",
    "    RFC.fit(x_train, y_train)\n",
    "\n",
    "    # Print train accuracy\n",
    "    print(\"MAX FEATURES: \", MAX_FEAT)\n",
    "    print(\"train accuracy: \", accuracy_score(RFC.predict(x_train), y_train))\n",
    "    print(\"valid accuracy: \", accuracy_score(RFC.predict(x_valid), y_valid))\n",
    "    \n",
    "    train_accuracy[i] = accuracy_score(RFC.predict(x_train), y_train)\n",
    "    valid_accuracy[i] = accuracy_score(RFC.predict(x_valid), y_valid)\n",
    "    features[i] = MAX_FEAT\n",
    "    \n",
    "    MAX_FEAT = MAX_FEAT + 1"
   ]
  },
  {
   "cell_type": "code",
   "execution_count": null,
   "metadata": {},
   "outputs": [],
   "source": [
    "# Plot results\n",
    "print(\"train accuracy plot\")\n",
    "plt.scatter(features, train_accuracy, s=1)\n",
    "plt.show()\n",
    "print(\"valid accuracy plot\")\n",
    "plt.scatter(features, valid_accuracy, s=1)\n",
    "plt.show()"
   ]
  },
  {
   "cell_type": "code",
   "execution_count": 9,
   "metadata": {},
   "outputs": [
    {
     "name": "stdout",
     "output_type": "stream",
     "text": [
      "Valid accuracy:  0.9882629107981221\n",
      "Confusion Matrix: 0 = NEG / 1 = NEU / 2 = POS\n"
     ]
    },
    {
     "data": {
      "text/plain": [
       "<matplotlib.axes._subplots.AxesSubplot at 0x1599cbe9320>"
      ]
     },
     "execution_count": 9,
     "metadata": {},
     "output_type": "execute_result"
    },
    {
     "data": {
      "image/png": "[encoded data removed]",
      "text/plain": [
       "<Figure size 432x288 with 2 Axes>"
      ]
     },
     "metadata": {},
     "output_type": "display_data"
    }
   ],
   "source": [
    "### CONFUSION MATRIX WITH 25 MAX FEATURES\n",
    "RFC = RandomForestClassifier(n_estimators=100, min_samples_split=3, max_features=25)\n",
    "RFC.fit(x_train, y_train)\n",
    "cm = confusion_matrix(y_valid, RFC.predict(x_valid))\n",
    "print(\"Valid accuracy: \", accuracy_score(RFC.predict(x_valid), y_valid))\n",
    "\n",
    "# Output visually\n",
    "print(\"Confusion Matrix: 0 = NEG / 1 = NEU / 2 = POS\")\n",
    "df_cm = pd.DataFrame(cm, range(3), range(3))\n",
    "sn.set(font_scale=1.4)\n",
    "sn.heatmap(df_cm, annot=True,annot_kws={\"size\": 16})"
   ]
  },
  {
   "cell_type": "code",
   "execution_count": null,
   "metadata": {},
   "outputs": [],
   "source": []
  }
 ],
 "metadata": {
  "kernelspec": {
   "display_name": "Python 3",
   "language": "python",
   "name": "python3"
  },
  "language_info": {
   "codemirror_mode": {
    "name": "ipython",
    "version": 3
   },
   "file_extension": ".py",
   "mimetype": "text/x-python",
   "name": "python",
   "nbconvert_exporter": "python",
   "pygments_lexer": "ipython3",
   "version": "3.7.1"
  }
 },
 "nbformat": 4,
 "nbformat_minor": 2
}
